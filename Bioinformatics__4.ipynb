{
  "nbformat": 4,
  "nbformat_minor": 0,
  "metadata": {
    "colab": {
      "name": "Bioinformatics_#4.ipynb",
      "provenance": []
    },
    "kernelspec": {
      "name": "python3",
      "display_name": "Python 3"
    },
    "language_info": {
      "name": "python"
    }
  },
  "cells": [
    {
      "cell_type": "markdown",
      "metadata": {
        "id": "IKPA6vcx_0LM"
      },
      "source": [
        "# Code for the week 4 quiz."
      ]
    },
    {
      "cell_type": "code",
      "metadata": {
        "id": "I3yza--a_v29"
      },
      "source": [
        "\n",
        "\n",
        "\n",
        "alphabet = [ \"A\", \"C\", \"G\", \"T\"]\n",
        "alpha_dict = { \"A\": 0, \"C\": 1, \"G\": 2, \"T\": 3 }\n",
        "\n",
        "DNA = \"TGACGTTC TAAGAGTT GGACGAAA CTGTTCGC\"\n",
        "DNA = DNA.split()\n",
        "\n",
        "motif = \"TGA GTT GAA TGT\"\n",
        "\n",
        "motif = motif.split()\n",
        "\n",
        "k = len( motif[ 0 ] )\n",
        "\n",
        "# Find the profile of a motif, then generate a motif from the profile.\n",
        "\n",
        "# Find the profile.\n",
        "\n",
        "# Generate a blank profile matrix.\n",
        "profile = [ ]\n",
        "\n",
        "consensus_string = \"\"\n",
        "\n",
        "consensus_prob = [ ]\n",
        "\n",
        "for nuc in alphabet:\n",
        "\n",
        "  blank_kmer = [ 1 for i in range( k ) ]\n",
        "\n",
        "  for mot in motif:\n",
        "\n",
        "    #print( 'mot: ', mot, 'motif: ', motif, 'k: ', k )\n",
        "\n",
        "    #print( 'motif: ', motif )\n",
        "\n",
        "    for j in range( k ):\n",
        "\n",
        "      #print( mot, j )\n",
        "      if list( mot )[ j ] == nuc:\n",
        "        \n",
        "\n",
        "        blank_kmer[ j ] += 1\n",
        "\n",
        "  profile.append( blank_kmer )\n",
        "\n",
        "\n",
        "for i in range( k ):\n",
        "\n",
        "  total_freq = profile[ 0 ][ i ] + profile[ 1 ][ i ] + profile[ 2 ][ i ] + profile[ 3 ][ i ]\n",
        "\n",
        "  for j in range( 4 ):\n",
        "\n",
        "    profile[ j ][ i ] = profile[ j ][ i ] / total_freq\n",
        "\n",
        "    consensus_prob.append( profile[ j ][ i ] )\n",
        "\n",
        "  consensus_string += list(alpha_dict.keys())[consensus_prob.index( max( consensus_prob ) )]\n",
        "  consensus_prob = []\n",
        "\n",
        "\n",
        "for l in range( len( DNA ) ):\n",
        "  \n",
        "  freq_table = {}\n",
        "\n",
        "\n",
        "  for m in range( 0, len( DNA[ l ] ) - k + 1 ):\n",
        "\n",
        "    kmer = DNA[ l ] [ m:(m + k) ]\n",
        "    #print( kmer )\n",
        "\n",
        "    prob = 1\n",
        "\n",
        "    for p in range( k ):\n",
        "\n",
        "      # There may be an error here.\n",
        "      prob *= profile[ alpha_dict[ kmer[ p ] ]  ] [ p ]\n",
        "\n",
        "    freq_table[ kmer ] = 1 - prob\n",
        "\n",
        "\n",
        "  motif[ l ] = min( freq_table, key=freq_table.get )\n",
        "  #print( motif )\n",
        "\n",
        "for mot in motif:\n",
        "  print(mot)\n",
        "\n",
        "\n"
      ],
      "execution_count": null,
      "outputs": []
    },
    {
      "cell_type": "code",
      "metadata": {
        "id": "cNWsDFGRArQb"
      },
      "source": [
        "blank = \"\"\n",
        "\n",
        "for kmer in motif:\n",
        "    #print('This is also running')\n",
        "    #print( kmer )\n",
        "\n",
        "    blank += \" \" + kmer\n",
        "\n",
        "print(blank)"
      ],
      "execution_count": null,
      "outputs": []
    }
  ]
}